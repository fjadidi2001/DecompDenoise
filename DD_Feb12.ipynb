{
  "nbformat": 4,
  "nbformat_minor": 0,
  "metadata": {
    "colab": {
      "provenance": [],
      "authorship_tag": "ABX9TyPExEEseycc8WMM67SYSvqt",
      "include_colab_link": true
    },
    "kernelspec": {
      "name": "python3",
      "display_name": "Python 3"
    },
    "language_info": {
      "name": "python"
    }
  },
  "cells": [
    {
      "cell_type": "markdown",
      "metadata": {
        "id": "view-in-github",
        "colab_type": "text"
      },
      "source": [
        "<a href=\"https://colab.research.google.com/github/fjadidi2001/DecompDenoise/blob/main/DD_Feb12.ipynb\" target=\"_parent\"><img src=\"https://colab.research.google.com/assets/colab-badge.svg\" alt=\"Open In Colab\"/></a>"
      ]
    },
    {
      "cell_type": "markdown",
      "source": [
        "# Step 1: Import Libraries\n"
      ],
      "metadata": {
        "id": "k3CgohcqJJbJ"
      }
    },
    {
      "cell_type": "code",
      "source": [
        "import os\n",
        "import cv2\n",
        "import numpy as np\n",
        "from skimage.util import random_noise\n",
        "import matplotlib.pyplot as plt\n",
        "from scipy.fft import fft2, ifft2, fftshift, ifftshift\n",
        "from scipy.linalg import svd"
      ],
      "metadata": {
        "id": "g9rz4M-VJIXc"
      },
      "execution_count": 2,
      "outputs": []
    },
    {
      "cell_type": "markdown",
      "source": [
        "# Step 2: Synthetic Data Generation\n"
      ],
      "metadata": {
        "id": "rz93AevVJ79P"
      }
    },
    {
      "cell_type": "code",
      "source": [
        "def add_gaussian_noise(image, mean=0, sigma=25):\n",
        "    \"\"\"Add Gaussian noise to an image.\"\"\"\n",
        "    noisy = image + np.random.normal(mean, sigma, image.shape).astype(np.uint8)\n",
        "    return np.clip(noisy, 0, 255)\n",
        "\n",
        "def add_salt_pepper_noise(image, prob=0.05):\n",
        "    \"\"\"Add salt-and-pepper noise to an image.\"\"\"\n",
        "    return (random_noise(image, mode='s&p', amount=prob) * 255).astype(np.uint8)\n",
        "\n",
        "def add_poisson_noise(image):\n",
        "    \"\"\"Add Poisson noise to an image.\"\"\"\n",
        "    return (random_noise(image, mode='poisson') * 255).astype(np.uint8)"
      ],
      "metadata": {
        "id": "jKags-JcJ5Gx"
      },
      "execution_count": 3,
      "outputs": []
    },
    {
      "cell_type": "markdown",
      "source": [
        "# Step 3: Preprocessing Pipeline\n"
      ],
      "metadata": {
        "id": "QBmtP7s8KFHr"
      }
    },
    {
      "cell_type": "code",
      "source": [
        "def preprocess_image(image_path, target_size=(256, 256)):\n",
        "    \"\"\"Full preprocessing pipeline: load, resize, and add noise.\"\"\"\n",
        "    # Load image\n",
        "    image = cv2.imread(image_path)\n",
        "    if image is None:\n",
        "        raise ValueError(f\"Failed to load image: {image_path}\")\n",
        "\n",
        "    # Resize to target size\n",
        "    image = cv2.resize(image, target_size)\n",
        "\n",
        "    # Apply synthetic noise\n",
        "    noisy_gaussian = add_gaussian_noise(image)\n",
        "    noisy_salt_pepper = add_salt_pepper_noise(image)\n",
        "    noisy_poisson = add_poisson_noise(image)\n",
        "\n",
        "    return {\n",
        "        \"original\": image,\n",
        "        \"noisy_gaussian\": noisy_gaussian,\n",
        "        \"noisy_salt_pepper\": noisy_salt_pepper,\n",
        "        \"noisy_poisson\": noisy_poisson\n",
        "    }"
      ],
      "metadata": {
        "id": "0n2TkvVHKNmw"
      },
      "execution_count": 4,
      "outputs": []
    },
    {
      "cell_type": "markdown",
      "source": [
        "# Step 4: Visualization Function\n"
      ],
      "metadata": {
        "id": "s_HEIeKJKdrt"
      }
    }
  ]
}