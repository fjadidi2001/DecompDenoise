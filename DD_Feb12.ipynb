{
  "nbformat": 4,
  "nbformat_minor": 0,
  "metadata": {
    "colab": {
      "provenance": [],
      "authorship_tag": "ABX9TyMZvVNapNUxNuvuFkpuDkN+",
      "include_colab_link": true
    },
    "kernelspec": {
      "name": "python3",
      "display_name": "Python 3"
    },
    "language_info": {
      "name": "python"
    }
  },
  "cells": [
    {
      "cell_type": "markdown",
      "metadata": {
        "id": "view-in-github",
        "colab_type": "text"
      },
      "source": [
        "<a href=\"https://colab.research.google.com/github/fjadidi2001/DecompDenoise/blob/main/DD_Feb12.ipynb\" target=\"_parent\"><img src=\"https://colab.research.google.com/assets/colab-badge.svg\" alt=\"Open In Colab\"/></a>"
      ]
    },
    {
      "cell_type": "markdown",
      "source": [
        "# Step 1: Import Libraries\n"
      ],
      "metadata": {
        "id": "k3CgohcqJJbJ"
      }
    },
    {
      "cell_type": "code",
      "source": [
        "import os\n",
        "import cv2\n",
        "import numpy as np\n",
        "from skimage.util import random_noise\n",
        "import matplotlib.pyplot as plt\n",
        "from scipy.fft import fft2, ifft2, fftshift, ifftshift\n",
        "from scipy.linalg import svd"
      ],
      "metadata": {
        "id": "g9rz4M-VJIXc"
      },
      "execution_count": 2,
      "outputs": []
    },
    {
      "cell_type": "markdown",
      "source": [
        "# Step 2: Synthetic Data Generation\n"
      ],
      "metadata": {
        "id": "rz93AevVJ79P"
      }
    },
    {
      "cell_type": "code",
      "source": [
        "def add_gaussian_noise(image, mean=0, sigma=25):\n",
        "    \"\"\"Add Gaussian noise to an image.\"\"\"\n",
        "    noisy = image + np.random.normal(mean, sigma, image.shape).astype(np.uint8)\n",
        "    return np.clip(noisy, 0, 255)\n",
        "\n",
        "def add_salt_pepper_noise(image, prob=0.05):\n",
        "    \"\"\"Add salt-and-pepper noise to an image.\"\"\"\n",
        "    return (random_noise(image, mode='s&p', amount=prob) * 255).astype(np.uint8)\n",
        "\n",
        "def add_poisson_noise(image):\n",
        "    \"\"\"Add Poisson noise to an image.\"\"\"\n",
        "    return (random_noise(image, mode='poisson') * 255).astype(np.uint8)"
      ],
      "metadata": {
        "id": "jKags-JcJ5Gx"
      },
      "execution_count": 3,
      "outputs": []
    },
    {
      "cell_type": "markdown",
      "source": [
        "# Step 3: Preprocessing Pipeline\n"
      ],
      "metadata": {
        "id": "QBmtP7s8KFHr"
      }
    },
    {
      "cell_type": "code",
      "source": [
        "def preprocess_image(image_path, target_size=(256, 256)):\n",
        "    \"\"\"Full preprocessing pipeline: load, resize, and add noise.\"\"\"\n",
        "    # Load image\n",
        "    image = cv2.imread(image_path)\n",
        "    if image is None:\n",
        "        raise ValueError(f\"Failed to load image: {image_path}\")\n",
        "\n",
        "    # Resize to target size\n",
        "    image = cv2.resize(image, target_size)\n",
        "\n",
        "    # Apply synthetic noise\n",
        "    noisy_gaussian = add_gaussian_noise(image)\n",
        "    noisy_salt_pepper = add_salt_pepper_noise(image)\n",
        "    noisy_poisson = add_poisson_noise(image)\n",
        "\n",
        "    return {\n",
        "        \"original\": image,\n",
        "        \"noisy_gaussian\": noisy_gaussian,\n",
        "        \"noisy_salt_pepper\": noisy_salt_pepper,\n",
        "        \"noisy_poisson\": noisy_poisson\n",
        "    }"
      ],
      "metadata": {
        "id": "0n2TkvVHKNmw"
      },
      "execution_count": 4,
      "outputs": []
    },
    {
      "cell_type": "markdown",
      "source": [
        "# Step 4: Visualization Function\n"
      ],
      "metadata": {
        "id": "s_HEIeKJKdrt"
      }
    },
    {
      "cell_type": "code",
      "source": [
        "def display_images(images_dict):\n",
        "    \"\"\"Display the original and noisy images with titles.\"\"\"\n",
        "    plt.figure(figsize=(15, 10))\n",
        "\n",
        "    # Plot original image\n",
        "    plt.subplot(2, 2, 1)\n",
        "    plt.imshow(cv2.cvtColor(images_dict[\"original\"], cv2.COLOR_BGR2RGB))\n",
        "    plt.title(\"Original Image\")\n",
        "    plt.axis(\"off\")\n",
        "\n",
        "    # Plot noisy images\n",
        "    plt.subplot(2, 2, 2)\n",
        "    plt.imshow(cv2.cvtColor(images_dict[\"noisy_gaussian\"], cv2.COLOR_BGR2RGB))\n",
        "    plt.title(\"Gaussian Noise\")\n",
        "    plt.axis(\"off\")\n",
        "\n",
        "    plt.subplot(2, 2, 3)\n",
        "    plt.imshow(cv2.cvtColor(images_dict[\"noisy_salt_pepper\"], cv2.COLOR_BGR2RGB))\n",
        "    plt.title(\"Salt-and-Pepper Noise\")\n",
        "    plt.axis(\"off\")\n",
        "\n",
        "    plt.subplot(2, 2, 4)\n",
        "    plt.imshow(cv2.cvtColor(images_dict[\"noisy_poisson\"], cv2.COLOR_BGR2RGB))\n",
        "    plt.title(\"Poisson Noise\")\n",
        "    plt.axis(\"off\")\n",
        "\n",
        "    plt.tight_layout()\n",
        "    plt.show()"
      ],
      "metadata": {
        "id": "hif3CYStKgQI"
      },
      "execution_count": 5,
      "outputs": []
    },
    {
      "cell_type": "markdown",
      "source": [
        "# Step 5: Enhanced Preprocessing\n"
      ],
      "metadata": {
        "id": "f1BfPhrLKmGa"
      }
    },
    {
      "cell_type": "code",
      "source": [
        "def normalize_image(image):\n",
        "    \"\"\"Normalize image to 0-255 range.\"\"\"\n",
        "    normalized = cv2.normalize(image, None, 0, 255, cv2.NORM_MINMAX)\n",
        "    return normalized.astype(np.uint8)\n",
        "\n",
        "def anscombe_transform(image):\n",
        "    \"\"\"Apply Anscombe transform with proper normalization.\"\"\"\n",
        "    float_image = image.astype(float)\n",
        "    transformed = 2.0 * np.sqrt(float_image + 3.0/8.0)\n",
        "    return normalize_image(transformed)\n",
        "\n",
        "def create_gabor_filters(num_filters=8):\n",
        "    \"\"\"Create a bank of Gabor filters with improved parameters.\"\"\"\n",
        "    filters = []\n",
        "    ksize = 31\n",
        "    sigma = 4.0\n",
        "    lambda_min = 4.0\n",
        "\n",
        "    for theta in np.arange(0, np.pi, np.pi/num_filters):\n",
        "        for lambda_val in [lambda_min, lambda_min*2]:\n",
        "            kernel = cv2.getGaborKernel(\n",
        "                (ksize, ksize),\n",
        "                sigma=sigma,\n",
        "                theta=theta,\n",
        "                lambd=lambda_val,\n",
        "                gamma=0.5,\n",
        "                psi=0,\n",
        "                ktype=cv2.CV_32F\n",
        "            )\n",
        "            kernel /= np.sum(np.abs(kernel))  # Normalize kernel\n",
        "            filters.append(kernel)\n",
        "\n",
        "    return filters\n",
        "\n",
        "def apply_gabor_filters(image, kernels):\n",
        "    \"\"\"Apply Gabor filters with proper normalization and magnitude computation.\"\"\"\n",
        "    if len(image.shape) == 3:  # Convert to grayscale if color image\n",
        "        gray = cv2.cvtColor(image, cv2.COLOR_BGR2GRAY)\n",
        "    else:\n",
        "        gray = image.copy()\n",
        "\n",
        "    gray = gray.astype(np.float32)  # Convert to float32\n",
        "    magnitude = np.zeros_like(gray)  # Initialize accumulator for magnitude\n",
        "\n",
        "    for kernel in kernels:\n",
        "        filtered = cv2.filter2D(gray, cv2.CV_32F, kernel)\n",
        "        magnitude += np.abs(filtered)\n",
        "\n",
        "    return normalize_image(magnitude)  # Normalize the magnitude"
      ],
      "metadata": {
        "id": "o0JPJP7ZKjzA"
      },
      "execution_count": 6,
      "outputs": []
    },
    {
      "cell_type": "markdown",
      "source": [
        "# Step 6: Fourier and Low-Rank Decomposition\n"
      ],
      "metadata": {
        "id": "SMhjaahPKq3m"
      }
    },
    {
      "cell_type": "code",
      "source": [
        "def fourier_decomposition(image, threshold_factor=0.1):\n",
        "    \"\"\"Decompose image into structural and textural components using Fourier transform.\"\"\"\n",
        "    if len(image.shape) == 3:  # Handle color images\n",
        "        structural = np.zeros_like(image)\n",
        "        textural = np.zeros_like(image)\n",
        "\n",
        "        for channel in range(3):\n",
        "            s, t = fourier_decomposition(image[:,:,channel], threshold_factor)\n",
        "            structural[:,:,channel] = s\n",
        "            textural[:,:,channel] = t\n",
        "\n",
        "        return structural, textural\n",
        "\n",
        "    # Process single channel\n",
        "    f_transform = fftshift(fft2(image))\n",
        "    magnitude_spectrum = np.abs(f_transform)\n",
        "\n",
        "    rows, cols = image.shape\n",
        "    center_row, center_col = rows // 2, cols // 2\n",
        "    radius = int(min(rows, cols) * threshold_factor)\n",
        "\n",
        "    y, x = np.ogrid[-center_row:rows-center_row, -center_col:cols-center_col]\n",
        "    mask = x*x + y*y <= radius*radius\n",
        "\n",
        "    structural_freq = f_transform.copy()\n",
        "    textural_freq = f_transform.copy()\n",
        "\n",
        "    structural_freq[~mask] = 0\n",
        "    textural_freq[mask] = 0\n",
        "\n",
        "    structural = np.real(ifft2(ifftshift(structural_freq)))\n",
        "    textural = np.real(ifft2(ifftshift(textural_freq)))\n",
        "\n",
        "    return structural.astype(np.uint8), textural.astype(np.uint8)\n",
        "\n",
        "def low_rank_decomposition(image, rank=10):\n",
        "    \"\"\"Perform low-rank matrix decomposition using SVD.\"\"\"\n",
        "    if len(image.shape) == 3:  # Handle color images\n",
        "        low_rank = np.zeros_like(image, dtype=float)\n",
        "        sparse = np.zeros_like(image, dtype=float)\n",
        "\n",
        "        for channel in range(3):\n",
        "            lr, sp = low_rank_decomposition(image[:,:,channel], rank)\n",
        "            low_rank[:,:,channel] = lr\n",
        "            sparse[:,:,channel] = sp\n",
        "\n",
        "        return normalize_image(low_rank), normalize_image(sparse)\n",
        "\n",
        "    # Process single channel\n",
        "    U, s, Vt = svd(image.astype(float), full_matrices=False)\n",
        "    s_truncated = np.zeros_like(s)\n",
        "    s_truncated[:rank] = s[:rank]\n",
        "\n",
        "    low_rank = U @ np.diag(s_truncated) @ Vt\n",
        "    sparse = image.astype(float) - low_rank\n",
        "\n",
        "    return normalize_image(low_rank), normalize_image(sparse)"
      ],
      "metadata": {
        "id": "yYQVzgk8Kum0"
      },
      "execution_count": 7,
      "outputs": []
    },
    {
      "cell_type": "markdown",
      "source": [
        "# Step 7: Advanced Denoising\n"
      ],
      "metadata": {
        "id": "wg7_2cNQK4ws"
      }
    },
    {
      "cell_type": "code",
      "source": [
        "def advanced_denoising(image, noise_level=0.1):\n",
        "    \"\"\"Perform advanced denoising using combined decomposition techniques.\"\"\"\n",
        "    image_float = image.astype(float)  # Convert to float for processing\n",
        "\n",
        "    # Apply decompositions\n",
        "    structural, textural = fourier_decomposition(image, threshold_factor=0.1)\n",
        "    low_rank_comp, sparse_comp = low_rank_decomposition(image, rank=20)\n",
        "\n",
        "    # Combine components for final denoised image\n",
        "    if len(image.shape) == 3:\n",
        "        denoised = np.zeros_like(image_float)\n",
        "        for channel in range(3):\n",
        "            denoised[:,:,channel] = (\n",
        "                0.7 * structural[:,:,channel] +\n",
        "                0.3 * low_rank_comp[:,:,channel]\n",
        "            )\n",
        "    else:\n",
        "        denoised = 0.7 * structural + 0.3 * low_rank_comp\n",
        "\n",
        "    return {\n",
        "        'denoised': normalize_image(denoised),\n",
        "        'structural': structural,\n",
        "        'textural': textural,\n",
        "        'low_rank': low_rank_comp,\n",
        "        'sparse': sparse_comp\n",
        "    }"
      ],
      "metadata": {
        "id": "_SWe8fveK4GT"
      },
      "execution_count": 8,
      "outputs": []
    },
    {
      "cell_type": "markdown",
      "source": [
        "# Step 8: Display Decomposition Results\n"
      ],
      "metadata": {
        "id": "6GvMlhD9LDAi"
      }
    },
    {
      "cell_type": "code",
      "source": [
        "def display_decomposition_results(results):\n",
        "    \"\"\"Display decomposition results.\"\"\"\n",
        "    plt.figure(figsize=(15, 10))\n",
        "\n",
        "    titles = [\n",
        "        'Original', 'Structural Component', 'Textural Component',\n",
        "        'Low-rank Component', 'Sparse Component', 'Denoised Result'\n",
        "    ]\n",
        "\n",
        "    images = [\n",
        "        results['original'],\n",
        "        results['structural'],\n",
        "        results['textural'],\n",
        "        results['low_rank'],\n",
        "        results['sparse'],\n",
        "        results['denoised']\n",
        "    ]\n",
        "\n",
        "    for idx, (title, img) in enumerate(zip(titles, images)):\n",
        "        plt.subplot(2, 3, idx + 1)\n",
        "        if len(img.shape) == 3:\n",
        "            img = cv2.cvtColor(img, cv2.COLOR_BGR2RGB)\n",
        "        plt.imshow(img, cmap='gray' if len(img.shape) == 2 else None)\n",
        "        plt.title(title)\n",
        "        plt.axis('off')\n",
        "\n",
        "    plt.tight_layout()\n",
        "    plt.show()"
      ],
      "metadata": {
        "id": "rlspfGfULG4_"
      },
      "execution_count": 9,
      "outputs": []
    }
  ]
}