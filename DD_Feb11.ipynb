{
  "nbformat": 4,
  "nbformat_minor": 0,
  "metadata": {
    "colab": {
      "provenance": [],
      "authorship_tag": "ABX9TyMtRdGSqeVWpy6LK7nlrpnk",
      "include_colab_link": true
    },
    "kernelspec": {
      "name": "python3",
      "display_name": "Python 3"
    },
    "language_info": {
      "name": "python"
    }
  },
  "cells": [
    {
      "cell_type": "markdown",
      "metadata": {
        "id": "view-in-github",
        "colab_type": "text"
      },
      "source": [
        "<a href=\"https://colab.research.google.com/github/fjadidi2001/DecompDenoise/blob/main/DD_Feb11.ipynb\" target=\"_parent\"><img src=\"https://colab.research.google.com/assets/colab-badge.svg\" alt=\"Open In Colab\"/></a>"
      ]
    },
    {
      "cell_type": "code",
      "execution_count": 2,
      "metadata": {
        "id": "P4nqVoTJ4eCo",
        "colab": {
          "base_uri": "https://localhost:8080/"
        },
        "outputId": "ee8955e5-9986-4c6d-be57-40994658967f"
      },
      "outputs": [
        {
          "output_type": "stream",
          "name": "stdout",
          "text": [
            "Preprocessing completed. Results saved to: preprocessed_results\n"
          ]
        }
      ],
      "source": [
        "import os\n",
        "import cv2\n",
        "import numpy as np\n",
        "from skimage.util import random_noise\n",
        "from skimage.transform import rescale\n",
        "\n",
        "# --------------------------\n",
        "# 1. Synthetic Data Generation\n",
        "# --------------------------\n",
        "\n",
        "def add_gaussian_noise(image, mean=0, sigma=25):\n",
        "    \"\"\"Add Gaussian noise to an image.\"\"\"\n",
        "    noisy = image + np.random.normal(mean, sigma, image.shape).astype(np.uint8)\n",
        "    return np.clip(noisy, 0, 255)\n",
        "\n",
        "def add_salt_pepper_noise(image, prob=0.05):\n",
        "    \"\"\"Add salt-and-pepper noise to an image.\"\"\"\n",
        "    return (random_noise(image, mode='s&p', amount=prob) * 255).astype(np.uint8)\n",
        "\n",
        "def add_poisson_noise(image):\n",
        "    \"\"\"Add Poisson noise to an image.\"\"\"\n",
        "    return (random_noise(image, mode='poisson') * 255).astype(np.uint8)\n",
        "\n",
        "# --------------------------\n",
        "# 2. Anscombe Transform (Variance Stabilization)\n",
        "# --------------------------\n",
        "\n",
        "def anscombe_transform(image):\n",
        "    \"\"\"Apply Anscombe transform to stabilize noise variance.\"\"\"\n",
        "    return 2 * np.sqrt(image + 3/8).astype(np.float32)\n",
        "\n",
        "def inverse_anscombe_transform(transformed_image):\n",
        "    \"\"\"Approximate inverse Anscombe transform.\"\"\"\n",
        "    return (transformed_image / 2)**2 - 3/8\n",
        "\n",
        "# --------------------------\n",
        "# 3. Gabor Filter (Multi-scale Feature Extraction)\n",
        "# --------------------------\n",
        "\n",
        "def apply_gabor_filter(image, frequency=0.6, theta=0, sigma=1.5):\n",
        "    \"\"\"Apply Gabor filter to extract multi-scale features.\"\"\"\n",
        "    kernel = cv2.getGaborKernel(\n",
        "        ksize=(21, 21),\n",
        "        sigma=sigma,\n",
        "        theta=theta,\n",
        "        lambd=1/frequency,\n",
        "        gamma=0.5,\n",
        "        psi=0,\n",
        "        ktype=cv2.CV_32F\n",
        "    )\n",
        "    filtered = cv2.filter2D(image, cv2.CV_8UC3, kernel)\n",
        "    return filtered\n",
        "\n",
        "# --------------------------\n",
        "# 4. Preprocessing Pipeline\n",
        "# --------------------------\n",
        "\n",
        "def preprocess_image(image_path, target_size=(256, 256)):\n",
        "    \"\"\"Full preprocessing pipeline: load, resize, denoise, and filter.\"\"\"\n",
        "    # Load image\n",
        "    image = cv2.imread(image_path)\n",
        "    if image is None:\n",
        "        raise ValueError(f\"Failed to load image: {image_path}\")\n",
        "\n",
        "    # Resize to target size\n",
        "    image = cv2.resize(image, target_size)\n",
        "\n",
        "    # Convert to grayscale (optional)\n",
        "    # image = cv2.cvtColor(image, cv2.COLOR_BGR2GRAY)\n",
        "\n",
        "    # Apply synthetic noise (example: Gaussian)\n",
        "    noisy_image = add_gaussian_noise(image)\n",
        "\n",
        "    # Anscombe transform\n",
        "    anscombe_img = anscombe_transform(noisy_image)\n",
        "\n",
        "    # Gabor filtering (example: horizontal orientation)\n",
        "    gabor_filtered = apply_gabor_filter(noisy_image, theta=np.pi/4)\n",
        "\n",
        "    return {\n",
        "        \"original\": image,\n",
        "        \"noisy\": noisy_image,\n",
        "        \"anscombe\": anscombe_img,\n",
        "        \"gabor_filtered\": gabor_filtered\n",
        "    }\n",
        "\n",
        "# --------------------------\n",
        "# Example Usage\n",
        "# --------------------------\n",
        "\n",
        "if __name__ == \"__main__\":\n",
        "    # Example: Process a sample image\n",
        "    image_path = \"Mona_Lisa.jpg\"  # Replace with your image path\n",
        "\n",
        "    # Run preprocessing\n",
        "    results = preprocess_image(image_path)\n",
        "\n",
        "    # Save results (optional)\n",
        "    output_dir = \"preprocessed_results\"\n",
        "    os.makedirs(output_dir, exist_ok=True)\n",
        "\n",
        "    for key, img in results.items():\n",
        "        cv2.imwrite(f\"{output_dir}/{key}.jpg\", img)\n",
        "\n",
        "    print(\"Preprocessing completed. Results saved to:\", output_dir)"
      ]
    }
  ]
}